{
 "cells": [
  {
   "cell_type": "markdown",
   "id": "f09cc5b1-1fed-46b3-b931-9976420f0a4a",
   "metadata": {},
   "source": [
    "# How do we assess image quality\n",
    "\n",
    "Two key factors will always be required to generate good simulations\n",
    "* pore space is connected\n",
    "* image resolution is sufficient to capture rock microstructure\n",
    "\n",
    "Morphological analysis provides a quick and easy (cheap!) way to verify that images are worth additional effort\n",
    "\n",
    "(it is also a great way to initialize oil-water configurations)"
   ]
  },
  {
   "cell_type": "code",
   "execution_count": null,
   "id": "bd07fd81-2a13-4e60-85d2-baa44e7404c2",
   "metadata": {},
   "outputs": [],
   "source": [
    "# read csv file and plot data\n",
    "import pandas as pd\n",
    "import numpy as np\n",
    "import matplotlib.pylab as plt\n",
    "\n",
    "# Image processsing\n",
    "import skimage\n",
    "\n",
    "# Image visualization\n",
    "import tifffile\n",
    "\n",
    "# Other utility functions\n",
    "import os\n",
    "# TODO: be smarter about changing directory\n",
    "# os.chdir('/home/mcclurej/Programs/porescale_quantification_workshop/tutorial')\n",
    "import glob\n",
    "import sys\n",
    "sys.path.insert(0, '../')\n",
    "import src.utils\n",
    "# if glob.glob('data/*.tif') == []:\n",
    "#     src.utils.get_datafiles()\n",
    "from ipywidgets import interact, interactive\n",
    "import ipywidgets as widgets\n",
    "from IPython.display import display, clear_output"
   ]
  },
  {
   "cell_type": "markdown",
   "id": "962eeda1-0add-4266-a7c4-f482dce504ba",
   "metadata": {},
   "source": [
    "# Running morphological drainage with LBPM\n",
    "\n",
    "LBPM includes a pre-processing tool to generate morphological drainage curves (we use it as part of computational SCAL worflows)\n",
    "\n",
    "Inputs are:\n",
    "* a digital rock image\n",
    "* a target water saturation value (i.e. how much oil to inject using a drainage process)\n",
    "\n",
    "Outputs are:\n",
    "* a digital rock image\n",
    "* a space-delimited CSV file `morphdrain.csv` that lists the water saturation `sw` and radius `r`\n",
    "\n",
    "The simulator is launched from the command line like other LBPM simulators:\n",
    "```\n",
    "mpirun -np 1 $LBPM_BIN/lbpm_morphdrain_pp input.db\n",
    "```\n",
    "\n",
    "(for more examples see http://lbpm-sim.org/examples/morphology/morphOpen.html )\n"
   ]
  },
  {
   "cell_type": "code",
   "execution_count": null,
   "id": "34fc07c8-f94e-4ca2-8f52-b9ab1213db99",
   "metadata": {},
   "outputs": [],
   "source": [
    "img_list = glob.glob('../data/*.tif')\n",
    "print(img_list)\n",
    "segmented_lrc32, segmented_Gambier, segmented_bead_pack_512, segmented_castle_512 = [tifffile.imread(tif_img) for tif_img in img_list]\n",
    "\n",
    "fig, ax = plt.subplots(nrows=2, ncols=2,figsize=(8,8))\n",
    "ax = ax.flatten()\n",
    "\n",
    "ax[0].imshow(segmented_lrc32[0,:,:], cmap='gray')\n",
    "ax[0].set_title('LRC32 Sand Pack',fontsize=14)\n",
    "\n",
    "ax[1].imshow(segmented_Gambier[0,:,:], cmap='gray')\n",
    "ax[1].set_title('Gambier Limestone',fontsize=14)\n",
    "\n",
    "ax[2].imshow(segmented_bead_pack_512[0,:,:], cmap='gray')\n",
    "ax[2].set_title('Glass Bead Pack',fontsize=14)\n",
    "\n",
    "im = ax[3].imshow(segmented_castle_512[0,:,:], cmap='gray')\n",
    "ax[3].set_title('Castlegate Sandstone',fontsize=14)\n",
    "\n",
    "fig.colorbar(im, ax=ax.tolist())\n",
    "\n",
    "plt.show()"
   ]
  },
  {
   "cell_type": "markdown",
   "id": "12655c68-45b5-4913-8e9e-a89a33577cb2",
   "metadata": {},
   "source": [
    "# Let's look at the bead pack first\n",
    "\n",
    "(This image is fairly homogeneous and well-resolved)\n",
    "\n",
    "Essential portion of the LBPM input file `input.db` is below:\n",
    "```\n",
    "Domain {\n",
    "   Filename = \"segmented_bead_pack_512.ubc\"\n",
    "   voxel_length = 17.4\n",
    "   N = 512, 512, 512\n",
    "   n = 256, 256, 256\n",
    "   nproc = 1, 1, 1\n",
    "   ReadType =\"8bit\"\n",
    "   // key values set by image labeling \n",
    "   ReadValues = 0, 1\n",
    "   WriteValues = 1, 0 \n",
    "   // keys below set by color model\n",
    "   BC = 0\n",
    "   InletLayers = 0, 0, 5 \n",
    "   OutletLayers = 0, 0, 5 \n",
    "   Sw = 0.1\n",
    "}\n",
    "```\n",
    "This will do the following things:\n",
    "* Map `ReadValues = 0, 1` (from original image) to `WriteValues=1, 0`\n",
    "* Output image size will match the simulation size\n",
    "* Target saturation `Sw = 0.30`\n"
   ]
  },
  {
   "cell_type": "code",
   "execution_count": null,
   "id": "dc0b4ef8-819a-4381-b9a5-bc6de34034c7",
   "metadata": {},
   "outputs": [],
   "source": [
    "def PlotMorphImage(input_file) :\n",
    "    ID=tifffile.imread(input_file)\n",
    "    slice=int(Nz/2)\n",
    "    plt.figure(2)\n",
    "    plt.title('segmented image')\n",
    "    plt.pcolormesh(ID[slice,:,:],cmap='hot')\n",
    "    plt.xlabel('')\n",
    "    plt.ylabel('')\n",
    "    plt.grid(True)\n",
    "    plt.axis('equal')\n",
    "    plt.show()\n",
    "\n",
    "PlotMorphImage(\"../data/morphdrain/segmented_bead_pack_256_morphdrain.tif\")"
   ]
  },
  {
   "cell_type": "markdown",
   "id": "6a70396d-1f30-4bd4-89ce-43858ca2d74a",
   "metadata": {},
   "source": [
    "# Mercury injection curve\n",
    "\n",
    "Radius of morphological opening is decreased to decrease the water saturation. \n",
    "\n",
    "This provides a fair approximation of oil drainage under water wet conditions \n",
    "(may miss irredicuble water saturation)"
   ]
  },
  {
   "cell_type": "code",
   "execution_count": null,
   "id": "b1ba98da-dcf6-41f2-9223-bccbc72d84f0",
   "metadata": {},
   "outputs": [],
   "source": [
    "M=pd.read_csv(\"../lbpm/beadpack/morphdrain.csv\",sep=\" \")\n",
    "\n",
    "pc=1/M['radius']\n",
    "plt.figure()\n",
    "plt.plot(M['sw'],pc)\n",
    "plt.xlabel('water saturation')\n",
    "plt.ylabel('curvature')\n",
    "plt.show()"
   ]
  },
  {
   "cell_type": "markdown",
   "id": "42af7d2c-422c-40b3-bf7b-2bd4396ccf3a",
   "metadata": {},
   "source": [
    "# Morphological Drainage as Image Quality Control\n",
    "\n",
    "* The morphological opening tells us how large the flow channels are likely to be\n",
    "* Under-resolved flow channels will lead to \"bad\" simulation results\n",
    "* It will be clear if the porespace is not well-connected\n",
    "* Rule of thumb: 10 voxels across a pore-throat will ensure scale separation between water films and flow channels"
   ]
  },
  {
   "cell_type": "code",
   "execution_count": null,
   "id": "ff1ab983-59dd-4fc1-82cf-76b64dd8c3d4",
   "metadata": {},
   "outputs": [],
   "source": [
    "plt.figure()\n",
    "plt.plot(M['sw'],M['radius'])\n",
    "plt.axhline(y=5,color='r',linestyle='dashed')\n",
    "plt.xlabel('water saturation')\n",
    "plt.ylabel('radius (voxels)')\n",
    "plt.show()"
   ]
  },
  {
   "cell_type": "markdown",
   "id": "c861b384-6893-408b-94f7-cd789e9dd468",
   "metadata": {},
   "source": [
    "# Now consider the Castlegate sandstone\n",
    "\n",
    "Relevant content of `input.db`\n",
    "```\n",
    "Domain {\n",
    "   Filename = \"segmented_castle_512.ubc\"\n",
    "   voxel_length = 5.6\n",
    "   N = 512, 512, 512\n",
    "   n = 256, 256, 256\n",
    "   nproc = 1, 1, 1\n",
    "   ReadType =\"8bit\"\n",
    "   // key values set by image labeling \n",
    "   ReadValues = 0, 1, 2 \n",
    "   WriteValues = 1, 0, 2 \n",
    "   // keys below set by color model\n",
    "   BC = 0\n",
    "   InletLayers = 0, 0, 5 \n",
    "   OutletLayers = 0, 0, 5 \n",
    "   Sw = 0.05\n",
    "}\n",
    "```\n",
    "\n"
   ]
  },
  {
   "cell_type": "code",
   "execution_count": null,
   "id": "10b259ef-6f73-407c-aeff-7b9f55cc2354",
   "metadata": {},
   "outputs": [],
   "source": [
    "PlotMorphImage(\"../data/morphdrain/segmented_castle_256_morphdrain5.tif\")"
   ]
  },
  {
   "cell_type": "markdown",
   "id": "05938df1-9f95-435e-aa30-288acad5f659",
   "metadata": {},
   "source": [
    "## (note how obvious the irreducible water saturation is for this image)"
   ]
  },
  {
   "cell_type": "code",
   "execution_count": null,
   "id": "e7eed133-6b3e-4d00-b15e-6c60686737f9",
   "metadata": {},
   "outputs": [],
   "source": [
    "M=pd.read_csv(\"../lbpm/castle/morphdrain.csv\",sep=\" \")\n",
    "\n",
    "pc=1/M['radius']\n",
    "plt.figure()\n",
    "plt.plot(M['sw'],pc)\n",
    "plt.xlabel('water saturation')\n",
    "plt.ylabel('curvature')\n",
    "plt.show()"
   ]
  },
  {
   "cell_type": "markdown",
   "id": "211aa59f-ea52-49ea-9076-b34c9e21499b",
   "metadata": {},
   "source": [
    "# Quality control check\n",
    "\n",
    "### Morphological radius clearly shows that the flow pathways will break my rule of thumb!"
   ]
  },
  {
   "cell_type": "code",
   "execution_count": null,
   "id": "59f5a631-4e03-4a8d-ac66-e257da0013dc",
   "metadata": {},
   "outputs": [],
   "source": [
    "plt.figure()\n",
    "plt.plot(M['sw'],M['radius'])\n",
    "plt.axhline(y=5,color='r',linestyle='dashed')\n",
    "plt.xlabel('water saturation')\n",
    "plt.ylabel('radius (voxels)')\n",
    "plt.show()"
   ]
  },
  {
   "cell_type": "markdown",
   "id": "45c70c75-0ace-440d-be70-3995286fafc4",
   "metadata": {},
   "source": [
    "# Gambier \n",
    "\n",
    "```\n",
    "Domain {\n",
    "   Filename = \"segmented_Gambier_512.ubc\"\n",
    "   voxel_length = 3.0\n",
    "   N = 512, 512, 512\n",
    "   n = 256, 256, 256\n",
    "   nproc = 1, 1, 1\n",
    "   ReadType =\"8bit\"\n",
    "   // key values set by image labeling \n",
    "   ReadValues = 0, 1, 2 \n",
    "   WriteValues = 1, 0, 2 \n",
    "   // keys below set by color model\n",
    "   BC = 0\n",
    "   InletLayers = 0, 0, 5 \n",
    "   OutletLayers = 0, 0, 5 \n",
    "   Sw = 0.1\n",
    "}\n",
    "```"
   ]
  },
  {
   "cell_type": "code",
   "execution_count": null,
   "id": "405617b9-6999-4fdc-b91b-616cb2ba8988",
   "metadata": {},
   "outputs": [],
   "source": [
    "PlotMorphImage(\"../data/morphdrain/segmented_Gambier_256_morphdrain30.tif\")"
   ]
  },
  {
   "cell_type": "code",
   "execution_count": null,
   "id": "23b75976-f993-49e8-83a3-efe3861f5f10",
   "metadata": {},
   "outputs": [],
   "source": [
    "M=pd.read_csv(\"../lbpm/gambier/morphdrain.csv\",sep=\" \")\n",
    "\n",
    "pc=1/M['radius']\n",
    "plt.figure()\n",
    "plt.plot(M['sw'],pc)\n",
    "plt.xlabel('water saturation')\n",
    "plt.ylabel('curvature')\n",
    "plt.show()"
   ]
  },
  {
   "cell_type": "code",
   "execution_count": null,
   "id": "dffcabf1-1493-472b-b1eb-c3af09841d69",
   "metadata": {},
   "outputs": [],
   "source": [
    "plt.figure()\n",
    "plt.plot(M['sw'],M['radius'])\n",
    "plt.axhline(y=5,color='r',linestyle='dashed')\n",
    "plt.xlabel('water saturation')\n",
    "plt.ylabel('radius (voxels)')\n",
    "plt.show()"
   ]
  }
 ],
 "metadata": {
  "kernelspec": {
   "display_name": "Python 3 (ipykernel)",
   "language": "python",
   "name": "python3"
  },
  "language_info": {
   "codemirror_mode": {
    "name": "ipython",
    "version": 3
   },
   "file_extension": ".py",
   "mimetype": "text/x-python",
   "name": "python",
   "nbconvert_exporter": "python",
   "pygments_lexer": "ipython3",
   "version": "3.11.7"
  }
 },
 "nbformat": 4,
 "nbformat_minor": 5
}
