{
 "cells": [
  {
   "cell_type": "markdown",
   "id": "4ed2c898-938b-46cb-a6ac-b9a794996515",
   "metadata": {},
   "source": [
    "# Finding a Competent Subset for Visualization, Simulation, or 3D Printing\n",
    "\n",
    "This notebook contains functions and the workflow for finding a competent subset for visualization.\n",
    "\n",
    "**Author Contact:** <br>\n",
    "LinkedIn: [Çınar Turhan](https://www.linkedin.com/in/cinarturhan/) <br>\n",
    "Email: [cinarturhan@utexas.edu](mailto:cinarturhan@utexas.edu)\n",
    "\n",
    "\n",
    "## Table of Contents\n",
    "[1. Finding a Competent Subset](#chapter1)<br>\n",
    "[1.1 Required Modules](#section_1_1)<br>\n",
    "[1.2. Functions](#section_1_2)<br>\n",
    "[1.3. Loading the Data](#section_1_3)<br>\n",
    "[1.4. Initial Visualizations](#section_1_4)<br>\n",
    "[1.5. Finding the Competent Subsets](#section_1_5)<br>\n",
    "[1.6. Final Visualizations](#section_1_5)<br>\n",
    "[2. Comparison Between the Layered, and Non-Layered Edges for a Subset](#chapter2)<br>\n",
    "___"
   ]
  },
  {
   "cell_type": "markdown",
   "id": "b70e6c96-a12a-4aac-b557-700b5646b158",
   "metadata": {},
   "source": [
    "# 1. Finding a Competent Subset <a class=\"anchor\" id=\"chapter1\"></a>"
   ]
  },
  {
   "cell_type": "markdown",
   "id": "51f8c5f9-fc82-407b-bbc3-f91357034b3b",
   "metadata": {},
   "source": [
    "## 1.1. Required Modules <a class=\"anchor\" id=\"section_1_1\"></a>"
   ]
  },
  {
   "cell_type": "code",
   "execution_count": 1,
   "id": "8a41b5b6",
   "metadata": {},
   "outputs": [],
   "source": [
    "import numpy as np\n",
    "import matplotlib.pyplot as plt\n",
    "import skimage\n",
    "import pyvista as pv\n",
    "pv.set_jupyter_backend('server')\n",
    "import cc3d\n",
    "import tifffile\n",
    "\n",
    "import warnings\n",
    "warnings.filterwarnings('ignore')\n",
    "\n",
    "from copy import deepcopy\n",
    "import glob\n",
    "import scipy\n",
    "import os"
   ]
  },
  {
   "cell_type": "markdown",
   "id": "e0319968-0f41-44f6-9352-e7f4215d8809",
   "metadata": {},
   "source": [
    "## Functions <a class=\"anchor\" id=\"section_1_2\"></a>\n",
    "\n",
    "1. **find_porosity_visualization_subset**: Finds the competent visualization subset.\n",
    "2. **add_layer**: Adds a layer of pores or solids around the sample to distinguish the pores in visualization, create solid boundaries for simulation, or prepare a model for 3D printing.\n",
    "3. **invert_image**: Inverts pore and solid classes in  a sample.\n",
    "4. **plot_sample**: Visualizing the samples."
   ]
  },
  {
   "cell_type": "code",
   "execution_count": 2,
   "id": "2e1ad649",
   "metadata": {},
   "outputs": [],
   "source": [
    "def find_porosity_visualization_subset(data, cube_size = 100, batch=100, pore_class = 0):\n",
    "    '''\n",
    "    Finds the best cubic subset for visaulizing the segmented dataset.\n",
    "    \n",
    "    data: 3D numpy array, vector class from DPM Tools, Image class from DPM Tools.\n",
    "    cube_size: Size of the visalization cube, default is 100 (100x100x100). \n",
    "    batch: Batch over which to calculate the stats, default is 100.\n",
    "    \n",
    "    '''\n",
    "    \n",
    "    if str(type(data))==\"<class 'dpm_tools.io.read_data.Vector'>\":\n",
    "        scalar_data = deepcopy(data.image)\n",
    "    elif str(type(data))==\"<class 'dpm_tools.io.read_data.Image'>\":\n",
    "        scalar_data = deepcopy(data)\n",
    "    else:\n",
    "        scalar_data = deepcopy(data)\n",
    "\n",
    "    if pore_class != 1:\n",
    "        scalar_data[scalar_data==pore_class]=199\n",
    "        scalar_data[scalar_data!=199]=pore_class\n",
    "        scalar_data[scalar_data==199]=1\n",
    "\n",
    "    size = scalar_data.shape[0]*scalar_data.shape[1]*scalar_data.shape[2]\n",
    "    porosity = (scalar_data==1).sum()/size\n",
    "\n",
    "    sample_size = cube_size\n",
    "\n",
    "    # Inner cube increment\n",
    "    inc = sample_size-int(sample_size*0.5)\n",
    "\n",
    "    # One dimension of the given vector sample cube.\n",
    "    max_dim = len(scalar_data)    \n",
    "\n",
    "    batch_for_stats = max_dim-sample_size # Max possible batch number\n",
    "\n",
    "    # Or overwrite:\n",
    "    batch_for_stats = batch\n",
    "\n",
    "    stats_array=np.zeros(shape=(5,batch_for_stats))\n",
    "\n",
    "    i=0\n",
    "    while i<batch_for_stats:\n",
    "        mini = np.random.randint(low=0, high=max_dim-sample_size)\n",
    "        maxi = mini+sample_size\n",
    "\n",
    "        scalar_boot = scalar_data[mini:maxi,mini:maxi,mini:maxi]\n",
    "        scalar_boot_inner = scalar_data[mini+inc:maxi-inc,mini+inc:maxi-inc,mini+inc:maxi-inc]\n",
    "\n",
    "        labels_out_outside, N = cc3d.largest_k(\n",
    "            scalar_boot, k=1, \n",
    "            connectivity=26, delta=0,\n",
    "            return_N=True,\n",
    "        )\n",
    "\n",
    "        index_outside,counts_outside = np.unique(labels_out_outside,return_counts=True)\n",
    "        counts_outside_sum = np.sum(counts_outside[1:])\n",
    "\n",
    "        labels_out_inside, N = cc3d.largest_k(\n",
    "            scalar_boot_inner, k=1, \n",
    "            connectivity=26, delta=0,\n",
    "            return_N=True,\n",
    "        )\n",
    "\n",
    "        index_inside,counts_inside = np.unique(labels_out_inside,return_counts=True)\n",
    "        counts_inside_sum = np.sum(counts_inside[1:])\n",
    "\n",
    "        porosity_selected = (scalar_boot==1).sum()/sample_size**3\n",
    "\n",
    "        if (porosity_selected<=porosity*1.2)&(porosity_selected>=porosity*0.8):\n",
    "            stats_array[0,i] = counts_outside_sum\n",
    "            stats_array[1,i] = counts_inside_sum     \n",
    "            stats_array[2,i] = porosity_selected   \n",
    "            stats_array[3,i] = mini\n",
    "            stats_array[4,i] = scipy.stats.hmean([stats_array[0,i],\n",
    "                                                  stats_array[1,i]])\n",
    "            i+=1\n",
    "\n",
    "        else:\n",
    "            continue\n",
    "\n",
    "\n",
    "    best_index = np.argmax(stats_array[4,:])\n",
    "    best_subset_range = int(stats_array[3,best_index])\n",
    "\n",
    "    print(f'Original Porosity: {round(porosity*100,2)} %\\n' +\n",
    "          f'Subset Porosity: {round(stats_array[2,best_index]*100,2)} %\\n' +\n",
    "          f'Competent Subset: [{best_subset_range}:{best_subset_range+cube_size},' +\n",
    "          f'{best_subset_range}:{best_subset_range+cube_size},{best_subset_range}:{best_subset_range+cube_size}]')\n",
    "    \n",
    "    best_subset_range = (int(best_subset_range),int(best_subset_range+cube_size))\n",
    "    \n",
    "    return best_subset_range, stats_array\n",
    "\n",
    "def add_layer(scalar_data, subset_range, trim_pixels_from_sides = 4, insert_phase = 'pore', pore_class = 0, solid_class = 1):\n",
    "    '''\n",
    "    Takes the whole data, and the subset_range that is to be visualized. Trims the pixels from the sides,\n",
    "    based on the keyword trim_pixels_from_each_sides. Replaces those with pore or solid phase based on insert_phase keyword.\n",
    "    By default, pore_class is 0, and the solid_class is 1. If you have different values, set those keywords to those numbers.\n",
    "    scalar_data = 3D numpy array.\n",
    "    subset_range = Range of interest/Volume of interest.\n",
    "    trim_pixels_from_each_sides = Thickness of the layer to be added.\n",
    "    insert_phase = 'solid' or 'pore'. Phase to be inserted.\n",
    "    pore_class = Value of the pores in the dataset.\n",
    "    solid_class = Value of the solids in the dataset.\n",
    "    '''\n",
    "    mini = subset_range[0]\n",
    "    maxi = subset_range[1]\n",
    "    \n",
    "    scalar_data = deepcopy(scalar_data)\n",
    "    \n",
    "    if insert_phase == 'pore':\n",
    "        scalar_data[mini:mini + trim_pixels_from_sides, :, :] = pore_class\n",
    "        scalar_data[:, mini:mini + trim_pixels_from_sides, :] = pore_class\n",
    "        scalar_data[:, :, mini:mini + trim_pixels_from_sides] = pore_class\n",
    "        scalar_data[maxi - trim_pixels_from_sides:maxi, :, :] = pore_class\n",
    "        scalar_data[:, maxi - trim_pixels_from_sides:maxi, :] = pore_class\n",
    "        scalar_data[:, :, maxi - trim_pixels_from_sides:maxi] = pore_class\n",
    "    elif insert_phase == 'solid':\n",
    "        scalar_data[mini:mini + trim_pixels_from_sides, :, :] = solid_class\n",
    "        scalar_data[:, mini:mini + trim_pixels_from_sides, :] = solid_class\n",
    "        scalar_data[:, :, mini:mini + trim_pixels_from_sides] = solid_class\n",
    "        scalar_data[maxi - trim_pixels_from_sides:maxi, :, :] = solid_class\n",
    "        scalar_data[:, maxi - trim_pixels_from_sides:maxi, :] = solid_class\n",
    "        scalar_data[:, :, maxi - trim_pixels_from_sides:maxi] = solid_class\n",
    "    else:\n",
    "        raise Exception('Please enter a valid class: \\'solid\\' or \\'pore\\' only')\n",
    "    \n",
    "    sample = scalar_data[mini:maxi,mini:maxi,mini:maxi]\n",
    "        \n",
    "    return sample\n",
    "\n",
    "\n",
    "\n",
    "def invert_image(scalar_data,pore_class=0,solid_class=1):\n",
    "    '''\n",
    "    Converts the pore class to solid class and vice versa. Eg, if the pores are set to 0 and the matrix is set to 1, the function inverts them\n",
    "    and the resulting values for pores become 1, and the matrix becomes 0.\n",
    "\n",
    "    pore_class = Value of the pores in the dataset.\n",
    "    solid_class = Value of the solids in the dataset.\n",
    "    \n",
    "    '''\n",
    "    scalar_data[scalar_data==class_1]=199\n",
    "    scalar_data[scalar_data!=199]=class_1\n",
    "    scalar_data[scalar_data==199]=class_2\n",
    "    return scalar_data\n",
    "\n",
    "def plot_sample(sample, subset=True, subset_range = (0,128)):\n",
    "    '''\n",
    "    Plots the isosurfaces between pores and solids. \n",
    "    subset: If true, assign the subset_range you want to plot. If false, it plots the whole sample.\n",
    "    subset_range: If subset is set to 'True', assign the range here.\n",
    "    '''\n",
    "    plotter_obj = pv.Plotter(lighting='three lights')#notebook=True, off_screen=False, lighting='three lights')\n",
    "\n",
    "    # Set background colors\n",
    "    plotter_obj.set_background(color='w')\n",
    "#     plotter_obj.add_light(pv.Light(light_type='headlight'))\n",
    "\n",
    "    # Set font colors and sizes\n",
    "    pv.global_theme.font.color = 'black'\n",
    "    pv.global_theme.font.size = 18\n",
    "    pv.global_theme.font.label_size = 14\n",
    "    \n",
    "    pv.set_jupyter_backend('server')\n",
    "\n",
    "    mini = subset_range[0]\n",
    "    maxi = subset_range[1]\n",
    "    \n",
    "    if subset:\n",
    "        sample = sample[mini:maxi,mini:maxi,mini:maxi]\n",
    "    \n",
    "    pv_image_obj = pv.wrap(sample)\n",
    "    contours = pv_image_obj.contour(isosurfaces=[0.5])\n",
    "    plotter_obj.add_mesh(contours, opacity=1, color=(200 / 255, 181 / 255, 152 / 255), diffuse=0.75, ambient=0.15)\n",
    "    \n",
    "    \n",
    "    plotter_obj.show(jupyter_backend='server')"
   ]
  },
  {
   "cell_type": "markdown",
   "id": "4b002ea1",
   "metadata": {},
   "source": [
    "## Loading the Data <a class=\"anchor\" id=\"section_1_3\"></a>\n",
    "\n",
    "In these datasets, pores are set to 1, and the solids are set to 0."
   ]
  },
  {
   "cell_type": "code",
   "execution_count": 3,
   "id": "b5a2c981",
   "metadata": {},
   "outputs": [
    {
     "data": {
      "image/png": "[encoded data removed]",
      "text/plain": [
       "<Figure size 800x800 with 8 Axes>"
      ]
     },
     "metadata": {},
     "output_type": "display_data"
    }
   ],
   "source": [
    "img_list = glob.glob('../data/*.tif')\n",
    "segmented_bead_pack_512, segmented_castle_512, segmented_Gambier, segmented_lrc32 = [tifffile.imread(tif_img) for tif_img in img_list]\n",
    "\n",
    "fig, ax = plt.subplots(nrows=2, ncols=2,figsize=(8,8))\n",
    "ax = ax.flatten()\n",
    "\n",
    "skimage.io.imshow(segmented_lrc32[0,:,:], cmap='gray', ax=ax[0])\n",
    "ax[0].set_title('LRC32 Sand Pack',fontsize=14)\n",
    "\n",
    "skimage.io.imshow(segmented_Gambier[0,:,:], cmap='gray', ax=ax[1])\n",
    "ax[1].set_title('Gambier Limestone',fontsize=14)\n",
    "\n",
    "skimage.io.imshow(segmented_bead_pack_512[0,:,:], cmap='gray', ax=ax[2])\n",
    "ax[2].set_title('Glass Bead Pack',fontsize=14)\n",
    "\n",
    "skimage.io.imshow(segmented_castle_512[0,:,:], cmap='gray', ax=ax[3])\n",
    "ax[3].set_title('Castlegate Sandstone',fontsize=14)\n",
    "\n",
    "plt.show()"
   ]
  },
  {
   "cell_type": "markdown",
   "id": "90f568a8-576a-447e-8915-c74398c9967a",
   "metadata": {},
   "source": [
    "## Initial Visualizations <a class=\"anchor\" id=\"section_1_4\"></a>"
   ]
  },
  {
   "cell_type": "code",
   "execution_count": 4,
   "id": "e82c6e5b-1c85-4175-93f2-919bf9157363",
   "metadata": {},
   "outputs": [
    {
     "data": {
      "application/vnd.jupyter.widget-view+json": {
       "model_id": "adfc1b15d8fe4d68ae6ac9ce17eac7bf",
       "version_major": 2,
       "version_minor": 0
      },
      "text/plain": [
       "Widget(value='<iframe src=\"http://localhost:62205/index.html?ui=P_0x18d95e61210_0&reconnect=auto\" class=\"pyvis…"
      ]
     },
     "metadata": {},
     "output_type": "display_data"
    },
    {
     "data": {
      "application/vnd.jupyter.widget-view+json": {
       "model_id": "45637a390afe4f40a80221f5ed5dc889",
       "version_major": 2,
       "version_minor": 0
      },
      "text/plain": [
       "Widget(value='<iframe src=\"http://localhost:62205/index.html?ui=P_0x18dd924c6d0_1&reconnect=auto\" class=\"pyvis…"
      ]
     },
     "metadata": {},
     "output_type": "display_data"
    },
    {
     "data": {
      "application/vnd.jupyter.widget-view+json": {
       "model_id": "f41060128c6a49a9901d3482560919b5",
       "version_major": 2,
       "version_minor": 0
      },
      "text/plain": [
       "Widget(value='<iframe src=\"http://localhost:62205/index.html?ui=P_0x18deaef34d0_2&reconnect=auto\" class=\"pyvis…"
      ]
     },
     "metadata": {},
     "output_type": "display_data"
    },
    {
     "data": {
      "application/vnd.jupyter.widget-view+json": {
       "model_id": "2e0b37e4d9e744e48f773cb4efce500a",
       "version_major": 2,
       "version_minor": 0
      },
      "text/plain": [
       "Widget(value='<iframe src=\"http://localhost:62205/index.html?ui=P_0x18dd923f2d0_3&reconnect=auto\" class=\"pyvis…"
      ]
     },
     "metadata": {},
     "output_type": "display_data"
    }
   ],
   "source": [
    "# subset_range = (128,256)\n",
    "segmented_lrc32_vis = add_layer(segmented_lrc32, subset_range = (128,256), trim_pixels_from_sides = 10, insert_phase = 'pore', pore_class = 1, solid_class = 0)\n",
    "segmented_Gambier_vis = add_layer(segmented_Gambier, subset_range = (128,256), trim_pixels_from_sides = 10, insert_phase = 'pore', pore_class = 1, solid_class = 0)\n",
    "segmented_bead_pack_512_vis = add_layer(segmented_bead_pack_512, subset_range = (128,256), trim_pixels_from_sides = 10, insert_phase = 'pore', pore_class = 1, solid_class = 0)\n",
    "segmented_castle_512_vis = add_layer(segmented_castle_512, subset_range = (128,256), trim_pixels_from_sides = 10, insert_phase = 'pore', pore_class = 1, solid_class = 0)\n",
    "\n",
    "plot_sample(segmented_lrc32_vis, subset=False, subset_range = (0,128))\n",
    "plot_sample(segmented_Gambier_vis, subset=False, subset_range = (0,128))\n",
    "plot_sample(segmented_bead_pack_512_vis, subset=False, subset_range = (0,128))\n",
    "plot_sample(segmented_castle_512_vis, subset=False, subset_range = (0,128))"
   ]
  },
  {
   "cell_type": "code",
   "execution_count": 5,
   "id": "2217c6a4-250d-4712-afab-0bc73abf8f81",
   "metadata": {},
   "outputs": [
    {
     "name": "stdout",
     "output_type": "stream",
     "text": [
      "71.6 %\n"
     ]
    }
   ],
   "source": [
    "# Porosity of the selected subset of Gambier Limestone\n",
    "segmented_Gambier_Subset_128 = segmented_Gambier[128:256, 128:256, 128:256]\n",
    "porosity = np.sum(segmented_Gambier_Subset_128 == 1)/(128**3)*100\n",
    "print(round(porosity, 1), '%')"
   ]
  },
  {
   "cell_type": "markdown",
   "id": "0ac61417-dbd2-4623-8b1c-77e30b0f265f",
   "metadata": {},
   "source": [
    "## Finding the Competent Subsets <a class=\"anchor\" id=\"section_1_4\"></a>"
   ]
  },
  {
   "cell_type": "code",
   "execution_count": 6,
   "id": "694c052a",
   "metadata": {},
   "outputs": [
    {
     "name": "stdout",
     "output_type": "stream",
     "text": [
      "Original Porosity: 36.32 %\n",
      "Subset Porosity: 36.59 %\n",
      "Competent Subset: [138:266,138:266,138:266]\n"
     ]
    }
   ],
   "source": [
    "subset1, _ = find_porosity_visualization_subset(segmented_lrc32, cube_size=128, batch=100, pore_class = 1)"
   ]
  },
  {
   "cell_type": "code",
   "execution_count": 11,
   "id": "94fd94a5",
   "metadata": {},
   "outputs": [
    {
     "name": "stdout",
     "output_type": "stream",
     "text": [
      "Original Porosity: 43.59 %\n",
      "Subset Porosity: 42.85 %\n",
      "Competent Subset: [27:155,27:155,27:155]\n"
     ]
    }
   ],
   "source": [
    "subset2, _ = find_porosity_visualization_subset(segmented_Gambier, cube_size=128, batch=100, pore_class = 1)"
   ]
  },
  {
   "cell_type": "code",
   "execution_count": 8,
   "id": "38a008a9-28de-42fa-90f2-f8512e6d02e4",
   "metadata": {},
   "outputs": [
    {
     "name": "stdout",
     "output_type": "stream",
     "text": [
      "Original Porosity: 37.88 %\n",
      "Subset Porosity: 32.85 %\n",
      "Competent Subset: [106:234,106:234,106:234]\n"
     ]
    }
   ],
   "source": [
    "subset3, _ = find_porosity_visualization_subset(segmented_bead_pack_512, cube_size=128, batch=100, pore_class = 1)"
   ]
  },
  {
   "cell_type": "code",
   "execution_count": 9,
   "id": "ffbcd218-80d5-4b2a-b916-70af4f72767f",
   "metadata": {},
   "outputs": [
    {
     "name": "stdout",
     "output_type": "stream",
     "text": [
      "Original Porosity: 20.61 %\n",
      "Subset Porosity: 20.94 %\n",
      "Competent Subset: [123:251,123:251,123:251]\n"
     ]
    }
   ],
   "source": [
    "subset4, _ = find_porosity_visualization_subset(segmented_castle_512, cube_size=128, batch=100, pore_class = 1)"
   ]
  },
  {
   "cell_type": "markdown",
   "id": "be9e7133-03be-4456-985d-00996109b07d",
   "metadata": {},
   "source": [
    "## Final Visualizations <a class=\"anchor\" id=\"section_1_5\"></a>"
   ]
  },
  {
   "cell_type": "code",
   "execution_count": 12,
   "id": "32b96b1a-d7ae-448d-981a-3e86fd215798",
   "metadata": {},
   "outputs": [
    {
     "data": {
      "application/vnd.jupyter.widget-view+json": {
       "model_id": "02e317565c154f468487ac1d2aa72b6a",
       "version_major": 2,
       "version_minor": 0
      },
      "text/plain": [
       "Widget(value='<iframe src=\"http://localhost:62205/index.html?ui=P_0x18e24c1b110_8&reconnect=auto\" class=\"pyvis…"
      ]
     },
     "metadata": {},
     "output_type": "display_data"
    },
    {
     "data": {
      "application/vnd.jupyter.widget-view+json": {
       "model_id": "a775af3704114365a890d09999bcc696",
       "version_major": 2,
       "version_minor": 0
      },
      "text/plain": [
       "Widget(value='<iframe src=\"http://localhost:62205/index.html?ui=P_0x18e253c17d0_9&reconnect=auto\" class=\"pyvis…"
      ]
     },
     "metadata": {},
     "output_type": "display_data"
    },
    {
     "data": {
      "application/vnd.jupyter.widget-view+json": {
       "model_id": "1ad283f46248490e82c00d7a0b7eebe3",
       "version_major": 2,
       "version_minor": 0
      },
      "text/plain": [
       "Widget(value='<iframe src=\"http://localhost:62205/index.html?ui=P_0x18e253818d0_10&reconnect=auto\" class=\"pyvi…"
      ]
     },
     "metadata": {},
     "output_type": "display_data"
    },
    {
     "data": {
      "application/vnd.jupyter.widget-view+json": {
       "model_id": "c544cb85cc894a67af4bdbee9e340aca",
       "version_major": 2,
       "version_minor": 0
      },
      "text/plain": [
       "Widget(value='<iframe src=\"http://localhost:62205/index.html?ui=P_0x18e24974110_11&reconnect=auto\" class=\"pyvi…"
      ]
     },
     "metadata": {},
     "output_type": "display_data"
    }
   ],
   "source": [
    "segmented_lrc32_vis = add_layer(segmented_lrc32, subset_range = subset1, trim_pixels_from_sides = 2, insert_phase = 'pore', pore_class = 1, solid_class = 0)\n",
    "segmented_Gambier_vis = add_layer(segmented_Gambier, subset_range = subset2, trim_pixels_from_sides = 2, insert_phase = 'pore', pore_class = 1, solid_class = 0)\n",
    "segmented_bead_pack_512_vis = add_layer(segmented_bead_pack_512, subset_range = subset3, trim_pixels_from_sides = 2, insert_phase = 'pore', pore_class = 1, solid_class = 0)\n",
    "segmented_castle_512_vis = add_layer(segmented_castle_512, subset_range = subset4, trim_pixels_from_sides = 2, insert_phase = 'pore', pore_class = 1, solid_class = 0)\n",
    "\n",
    "plot_sample(segmented_lrc32_vis, subset=False)\n",
    "plot_sample(segmented_Gambier_vis, subset=False)\n",
    "plot_sample(segmented_bead_pack_512_vis, subset=False)\n",
    "plot_sample(segmented_castle_512_vis, subset=False)"
   ]
  },
  {
   "cell_type": "markdown",
   "id": "fb59b1f7-e188-4a47-93ea-c3245ba7f50e",
   "metadata": {},
   "source": [
    "## Comparison Between the Layered, and Non-Layered Edges for a Subset <a class=\"anchor\" id=\"chapter2\"></a>"
   ]
  },
  {
   "cell_type": "code",
   "execution_count": 15,
   "id": "734f48b8-c0cf-4936-aec8-2e805c041ce1",
   "metadata": {},
   "outputs": [
    {
     "data": {
      "application/vnd.jupyter.widget-view+json": {
       "model_id": "eb111989b91a45debc40b90bfd78c8a4",
       "version_major": 2,
       "version_minor": 0
      },
      "text/plain": [
       "Widget(value='<iframe src=\"http://localhost:62205/index.html?ui=P_0x18e249ee5d0_16&reconnect=auto\" class=\"pyvi…"
      ]
     },
     "metadata": {},
     "output_type": "display_data"
    },
    {
     "data": {
      "application/vnd.jupyter.widget-view+json": {
       "model_id": "2e232b1900b949bda8c75ff09b9ed2b0",
       "version_major": 2,
       "version_minor": 0
      },
      "text/plain": [
       "Widget(value='<iframe src=\"http://localhost:62205/index.html?ui=P_0x18e249cf110_17&reconnect=auto\" class=\"pyvi…"
      ]
     },
     "metadata": {},
     "output_type": "display_data"
    }
   ],
   "source": [
    "segmented_Gambier_vis = add_layer(segmented_Gambier, subset_range = subset2, \n",
    "                                  trim_pixels_from_sides = 2, \n",
    "                                  insert_phase = 'pore', \n",
    "                                  pore_class = 1, \n",
    "                                  solid_class = 0)\n",
    "\n",
    "plot_sample(segmented_Gambier_vis,subset=False)\n",
    "plot_sample(segmented_Gambier,subset=True, subset_range=subset2)"
   ]
  },
  {
   "cell_type": "markdown",
   "id": "3d0cd611-b9ef-41ed-997b-70d63a71706e",
   "metadata": {},
   "source": [
    "____"
   ]
  },
  {
   "cell_type": "markdown",
   "id": "b8e5f28d-b977-43b2-96e5-74f570e2457b",
   "metadata": {},
   "source": [
    "Author: [Çınar Turhan](https://www.linkedin.com/in/cinarturhan/)"
   ]
  }
 ],
 "metadata": {
  "kernelspec": {
   "display_name": "Python 3 (ipykernel)",
   "language": "python",
   "name": "python3"
  },
  "language_info": {
   "codemirror_mode": {
    "name": "ipython",
    "version": 3
   },
   "file_extension": ".py",
   "mimetype": "text/x-python",
   "name": "python",
   "nbconvert_exporter": "python",
   "pygments_lexer": "ipython3",
   "version": "3.11.7"
  }
 },
 "nbformat": 4,
 "nbformat_minor": 5
}
